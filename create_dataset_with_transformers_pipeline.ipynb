{
 "cells": [
  {
   "cell_type": "markdown",
   "id": "9e30be61",
   "metadata": {},
   "source": [
    "# Define Custom Functions"
   ]
  },
  {
   "cell_type": "code",
   "execution_count": 15,
   "id": "8df7fbd6",
   "metadata": {},
   "outputs": [],
   "source": [
    "import numpy as np\n",
    "import pandas as pd\n",
    "import re"
   ]
  },
  {
   "cell_type": "code",
   "execution_count": 16,
   "id": "fc5f83bb",
   "metadata": {},
   "outputs": [],
   "source": [
    "def get_text(path):\n",
    "    with open(path) as file:\n",
    "        text = np.loadtxt(file, delimiter='\\n',dtype='str')\n",
    "\n",
    "    return pd.DataFrame(text)"
   ]
  },
  {
   "cell_type": "code",
   "execution_count": 17,
   "id": "83383131",
   "metadata": {},
   "outputs": [],
   "source": [
    "def add_and_modify_columns(df):\n",
    "    columns_to_add = ['strongly agree','agree','neither agree','disagree','strongly disagree']\n",
    "    df[columns_to_add] = 0\n",
    "    mapper = {0:'question'}\n",
    "    df.rename(mapper,inplace=True,axis=1)\n",
    "    return df"
   ]
  },
  {
   "cell_type": "code",
   "execution_count": 18,
   "id": "e0739f04",
   "metadata": {},
   "outputs": [],
   "source": [
    "def extract_percentages(df):\n",
    "    full_list = []\n",
    "    for index in range(1,20):\n",
    "        if index%2 != 0:\n",
    "            row = df.iloc[index,0]\n",
    "            row = re.findall('[0-9] | [0-9][0-9]',str(row))\n",
    "            values = [float(x) for x in row]\n",
    "            full_list.append(values)\n",
    "    return full_list    "
   ]
  },
  {
   "cell_type": "code",
   "execution_count": 19,
   "id": "57c2b3bc",
   "metadata": {},
   "outputs": [],
   "source": [
    "def reset_indices(df):\n",
    "    indexes = []\n",
    "    for index in range(1,20):\n",
    "        if index%2 != 0:\n",
    "            indexes.append(index)\n",
    "\n",
    "    df.drop(indexes,axis=0,inplace=True)\n",
    "    df.reset_index(drop=True,inplace=True)\n",
    "#return df"
   ]
  },
  {
   "cell_type": "code",
   "execution_count": 20,
   "id": "6ee96831",
   "metadata": {},
   "outputs": [],
   "source": [
    "def insert_values_into(df):\n",
    "    p = extract_percentages(df)\n",
    "    reset_indices(df)\n",
    "    data_x = pd.DataFrame(p,columns=df.columns[1:])\n",
    "    return data_x"
   ]
  },
  {
   "cell_type": "code",
   "execution_count": 21,
   "id": "9fd3524f",
   "metadata": {},
   "outputs": [],
   "source": [
    "def add_questions_and_reorder_columns(df):\n",
    "    df['question'] = data['question']\n",
    "    #mapper = {0:'question'}\n",
    "    #data_n.rename(mapper,inplace=True,axis=1)\n",
    "    cols = ['question','strongly agree','agree','neither agree','disagree','strongly disagree']\n",
    "    df= df[cols]\n",
    "    return df"
   ]
  },
  {
   "cell_type": "markdown",
   "id": "10dcc2da",
   "metadata": {},
   "source": [
    "# Create Datasets  Using a FunctionTransformer and Pipeline\n"
   ]
  },
  {
   "cell_type": "code",
   "execution_count": 22,
   "id": "1080452e",
   "metadata": {},
   "outputs": [],
   "source": [
    "from sklearn.preprocessing import FunctionTransformer as FT\n",
    "from sklearn.pipeline import Pipeline"
   ]
  },
  {
   "cell_type": "code",
   "execution_count": 23,
   "id": "912e3df9",
   "metadata": {},
   "outputs": [],
   "source": [
    "data = get_text('presurvey')"
   ]
  },
  {
   "cell_type": "code",
   "execution_count": 24,
   "id": "42a2d839",
   "metadata": {},
   "outputs": [],
   "source": [
    "data_post = get_text('postsurvey')"
   ]
  },
  {
   "cell_type": "code",
   "execution_count": 25,
   "id": "97a4826e",
   "metadata": {},
   "outputs": [],
   "source": [
    "add_and_modify_columns_t = FT(add_and_modify_columns)\n",
    "insert_values_into_t = FT(insert_values_into)\n",
    "add_questions_and_reorder_columns_t = FT(add_questions_and_reorder_columns)"
   ]
  },
  {
   "cell_type": "code",
   "execution_count": 26,
   "id": "2ba99e09",
   "metadata": {},
   "outputs": [],
   "source": [
    "pipe = Pipeline(\n",
    "steps=[\n",
    "    ('a&mc',add_and_modify_columns_t),\n",
    "    ('ivi',insert_values_into_t),\n",
    "    ('aqrc',add_questions_and_reorder_columns_t)\n",
    "], verbose=True)"
   ]
  },
  {
   "cell_type": "code",
   "execution_count": 27,
   "id": "10f56641",
   "metadata": {},
   "outputs": [
    {
     "name": "stdout",
     "output_type": "stream",
     "text": [
      "[Pipeline] .............. (step 1 of 3) Processing a&mc, total=   0.0s\n",
      "[Pipeline] ............... (step 2 of 3) Processing ivi, total=   0.0s\n",
      "[Pipeline] .............. (step 3 of 3) Processing aqrc, total=   0.0s\n"
     ]
    }
   ],
   "source": [
    "presurvey = pipe.fit_transform(data)\n",
    "presurvey.to_csv('presurvey_tr_pipe')"
   ]
  },
  {
   "cell_type": "code",
   "execution_count": 28,
   "id": "df1819ab",
   "metadata": {},
   "outputs": [
    {
     "data": {
      "text/html": [
       "<div>\n",
       "<style scoped>\n",
       "    .dataframe tbody tr th:only-of-type {\n",
       "        vertical-align: middle;\n",
       "    }\n",
       "\n",
       "    .dataframe tbody tr th {\n",
       "        vertical-align: top;\n",
       "    }\n",
       "\n",
       "    .dataframe thead th {\n",
       "        text-align: right;\n",
       "    }\n",
       "</style>\n",
       "<table border=\"1\" class=\"dataframe\">\n",
       "  <thead>\n",
       "    <tr style=\"text-align: right;\">\n",
       "      <th></th>\n",
       "      <th>question</th>\n",
       "      <th>strongly agree</th>\n",
       "      <th>agree</th>\n",
       "      <th>neither agree</th>\n",
       "      <th>disagree</th>\n",
       "      <th>strongly disagree</th>\n",
       "    </tr>\n",
       "  </thead>\n",
       "  <tbody>\n",
       "    <tr>\n",
       "      <th>0</th>\n",
       "      <td>I feel comftable discussing my background, bel...</td>\n",
       "      <td>0.0</td>\n",
       "      <td>10.0</td>\n",
       "      <td>40.0</td>\n",
       "      <td>40.0</td>\n",
       "      <td>10.0</td>\n",
       "    </tr>\n",
       "    <tr>\n",
       "      <th>1</th>\n",
       "      <td>Perspectives like mine are included in decisio...</td>\n",
       "      <td>0.0</td>\n",
       "      <td>0.0</td>\n",
       "      <td>20.0</td>\n",
       "      <td>30.0</td>\n",
       "      <td>50.0</td>\n",
       "    </tr>\n",
       "    <tr>\n",
       "      <th>2</th>\n",
       "      <td>The people I wk with are respectful to one ano...</td>\n",
       "      <td>0.0</td>\n",
       "      <td>20.0</td>\n",
       "      <td>30.0</td>\n",
       "      <td>30.0</td>\n",
       "      <td>20.0</td>\n",
       "    </tr>\n",
       "    <tr>\n",
       "      <th>3</th>\n",
       "      <td>This ganization provides a safe environment f ...</td>\n",
       "      <td>0.0</td>\n",
       "      <td>0.0</td>\n",
       "      <td>20.0</td>\n",
       "      <td>50.0</td>\n",
       "      <td>30.0</td>\n",
       "    </tr>\n",
       "    <tr>\n",
       "      <th>4</th>\n",
       "      <td>I can voice a contrary opinion without fear of...</td>\n",
       "      <td>0.0</td>\n",
       "      <td>0.0</td>\n",
       "      <td>30.0</td>\n",
       "      <td>20.0</td>\n",
       "      <td>50.0</td>\n",
       "    </tr>\n",
       "    <tr>\n",
       "      <th>5</th>\n",
       "      <td>I feel I can achieve success as my authentic s...</td>\n",
       "      <td>0.0</td>\n",
       "      <td>20.0</td>\n",
       "      <td>20.0</td>\n",
       "      <td>40.0</td>\n",
       "      <td>20.0</td>\n",
       "    </tr>\n",
       "    <tr>\n",
       "      <th>6</th>\n",
       "      <td>I can attend to an urgent personal matter duri...</td>\n",
       "      <td>0.0</td>\n",
       "      <td>20.0</td>\n",
       "      <td>0.0</td>\n",
       "      <td>70.0</td>\n",
       "      <td>10.0</td>\n",
       "    </tr>\n",
       "    <tr>\n",
       "      <th>7</th>\n",
       "      <td>This ganization encourages a good balance betw...</td>\n",
       "      <td>0.0</td>\n",
       "      <td>0.0</td>\n",
       "      <td>0.0</td>\n",
       "      <td>80.0</td>\n",
       "      <td>20.0</td>\n",
       "    </tr>\n",
       "    <tr>\n",
       "      <th>8</th>\n",
       "      <td>I feel like I belong at this ganization.</td>\n",
       "      <td>0.0</td>\n",
       "      <td>20.0</td>\n",
       "      <td>30.0</td>\n",
       "      <td>50.0</td>\n",
       "      <td>0.0</td>\n",
       "    </tr>\n",
       "    <tr>\n",
       "      <th>9</th>\n",
       "      <td>The ganization has a diverse management team. ...</td>\n",
       "      <td>0.0</td>\n",
       "      <td>0.0</td>\n",
       "      <td>30.0</td>\n",
       "      <td>30.0</td>\n",
       "      <td>30.0</td>\n",
       "    </tr>\n",
       "  </tbody>\n",
       "</table>\n",
       "</div>"
      ],
      "text/plain": [
       "                                            question  strongly agree  agree  \\\n",
       "0  I feel comftable discussing my background, bel...             0.0   10.0   \n",
       "1  Perspectives like mine are included in decisio...             0.0    0.0   \n",
       "2  The people I wk with are respectful to one ano...             0.0   20.0   \n",
       "3  This ganization provides a safe environment f ...             0.0    0.0   \n",
       "4  I can voice a contrary opinion without fear of...             0.0    0.0   \n",
       "5  I feel I can achieve success as my authentic s...             0.0   20.0   \n",
       "6  I can attend to an urgent personal matter duri...             0.0   20.0   \n",
       "7  This ganization encourages a good balance betw...             0.0    0.0   \n",
       "8           I feel like I belong at this ganization.             0.0   20.0   \n",
       "9  The ganization has a diverse management team. ...             0.0    0.0   \n",
       "\n",
       "   neither agree  disagree  strongly disagree  \n",
       "0           40.0      40.0               10.0  \n",
       "1           20.0      30.0               50.0  \n",
       "2           30.0      30.0               20.0  \n",
       "3           20.0      50.0               30.0  \n",
       "4           30.0      20.0               50.0  \n",
       "5           20.0      40.0               20.0  \n",
       "6            0.0      70.0               10.0  \n",
       "7            0.0      80.0               20.0  \n",
       "8           30.0      50.0                0.0  \n",
       "9           30.0      30.0               30.0  "
      ]
     },
     "execution_count": 28,
     "metadata": {},
     "output_type": "execute_result"
    }
   ],
   "source": [
    "presurvey"
   ]
  },
  {
   "cell_type": "code",
   "execution_count": 29,
   "id": "b463d0a3",
   "metadata": {},
   "outputs": [
    {
     "name": "stdout",
     "output_type": "stream",
     "text": [
      "[Pipeline] .............. (step 1 of 3) Processing a&mc, total=   0.0s\n",
      "[Pipeline] ............... (step 2 of 3) Processing ivi, total=   0.0s\n",
      "[Pipeline] .............. (step 3 of 3) Processing aqrc, total=   0.0s\n"
     ]
    }
   ],
   "source": [
    "postsurvey = pipe.fit_transform(data_post)\n",
    "postsurvey.to_csv('postsurvey_tr_pipe')"
   ]
  },
  {
   "cell_type": "code",
   "execution_count": 30,
   "id": "8eeffccb",
   "metadata": {},
   "outputs": [
    {
     "data": {
      "text/html": [
       "<div>\n",
       "<style scoped>\n",
       "    .dataframe tbody tr th:only-of-type {\n",
       "        vertical-align: middle;\n",
       "    }\n",
       "\n",
       "    .dataframe tbody tr th {\n",
       "        vertical-align: top;\n",
       "    }\n",
       "\n",
       "    .dataframe thead th {\n",
       "        text-align: right;\n",
       "    }\n",
       "</style>\n",
       "<table border=\"1\" class=\"dataframe\">\n",
       "  <thead>\n",
       "    <tr style=\"text-align: right;\">\n",
       "      <th></th>\n",
       "      <th>question</th>\n",
       "      <th>strongly agree</th>\n",
       "      <th>agree</th>\n",
       "      <th>neither agree</th>\n",
       "      <th>disagree</th>\n",
       "      <th>strongly disagree</th>\n",
       "    </tr>\n",
       "  </thead>\n",
       "  <tbody>\n",
       "    <tr>\n",
       "      <th>0</th>\n",
       "      <td>I feel comftable discussing my background, bel...</td>\n",
       "      <td>0.0</td>\n",
       "      <td>30.0</td>\n",
       "      <td>40.0</td>\n",
       "      <td>30.0</td>\n",
       "      <td>0.0</td>\n",
       "    </tr>\n",
       "    <tr>\n",
       "      <th>1</th>\n",
       "      <td>Perspectives like mine are included in decisio...</td>\n",
       "      <td>0.0</td>\n",
       "      <td>30.0</td>\n",
       "      <td>20.0</td>\n",
       "      <td>30.0</td>\n",
       "      <td>10.0</td>\n",
       "    </tr>\n",
       "    <tr>\n",
       "      <th>2</th>\n",
       "      <td>The people I wk with are respectful to one ano...</td>\n",
       "      <td>0.0</td>\n",
       "      <td>60.0</td>\n",
       "      <td>0.0</td>\n",
       "      <td>40.0</td>\n",
       "      <td>0.0</td>\n",
       "    </tr>\n",
       "    <tr>\n",
       "      <th>3</th>\n",
       "      <td>This ganization provides a safe environment f ...</td>\n",
       "      <td>0.0</td>\n",
       "      <td>20.0</td>\n",
       "      <td>60.0</td>\n",
       "      <td>20.0</td>\n",
       "      <td>0.0</td>\n",
       "    </tr>\n",
       "    <tr>\n",
       "      <th>4</th>\n",
       "      <td>I can voice a contrary opinion without fear of...</td>\n",
       "      <td>0.0</td>\n",
       "      <td>0.0</td>\n",
       "      <td>50.0</td>\n",
       "      <td>30.0</td>\n",
       "      <td>20.0</td>\n",
       "    </tr>\n",
       "    <tr>\n",
       "      <th>5</th>\n",
       "      <td>I feel I can achieve success as my authentic s...</td>\n",
       "      <td>0.0</td>\n",
       "      <td>30.0</td>\n",
       "      <td>50.0</td>\n",
       "      <td>10.0</td>\n",
       "      <td>10.0</td>\n",
       "    </tr>\n",
       "    <tr>\n",
       "      <th>6</th>\n",
       "      <td>I can attend to an urgent personal matter duri...</td>\n",
       "      <td>0.0</td>\n",
       "      <td>60.0</td>\n",
       "      <td>10.0</td>\n",
       "      <td>20.0</td>\n",
       "      <td>10.0</td>\n",
       "    </tr>\n",
       "    <tr>\n",
       "      <th>7</th>\n",
       "      <td>This ganization encourages a good balance betw...</td>\n",
       "      <td>0.0</td>\n",
       "      <td>10.0</td>\n",
       "      <td>50.0</td>\n",
       "      <td>30.0</td>\n",
       "      <td>10.0</td>\n",
       "    </tr>\n",
       "    <tr>\n",
       "      <th>8</th>\n",
       "      <td>I feel like I belong at this ganization.</td>\n",
       "      <td>0.0</td>\n",
       "      <td>50.0</td>\n",
       "      <td>40.0</td>\n",
       "      <td>10.0</td>\n",
       "      <td>0.0</td>\n",
       "    </tr>\n",
       "    <tr>\n",
       "      <th>9</th>\n",
       "      <td>The ganization has a diverse management team. ...</td>\n",
       "      <td>0.0</td>\n",
       "      <td>0.0</td>\n",
       "      <td>50.0</td>\n",
       "      <td>20.0</td>\n",
       "      <td>30.0</td>\n",
       "    </tr>\n",
       "  </tbody>\n",
       "</table>\n",
       "</div>"
      ],
      "text/plain": [
       "                                            question  strongly agree  agree  \\\n",
       "0  I feel comftable discussing my background, bel...             0.0   30.0   \n",
       "1  Perspectives like mine are included in decisio...             0.0   30.0   \n",
       "2  The people I wk with are respectful to one ano...             0.0   60.0   \n",
       "3  This ganization provides a safe environment f ...             0.0   20.0   \n",
       "4  I can voice a contrary opinion without fear of...             0.0    0.0   \n",
       "5  I feel I can achieve success as my authentic s...             0.0   30.0   \n",
       "6  I can attend to an urgent personal matter duri...             0.0   60.0   \n",
       "7  This ganization encourages a good balance betw...             0.0   10.0   \n",
       "8           I feel like I belong at this ganization.             0.0   50.0   \n",
       "9  The ganization has a diverse management team. ...             0.0    0.0   \n",
       "\n",
       "   neither agree  disagree  strongly disagree  \n",
       "0           40.0      30.0                0.0  \n",
       "1           20.0      30.0               10.0  \n",
       "2            0.0      40.0                0.0  \n",
       "3           60.0      20.0                0.0  \n",
       "4           50.0      30.0               20.0  \n",
       "5           50.0      10.0               10.0  \n",
       "6           10.0      20.0               10.0  \n",
       "7           50.0      30.0               10.0  \n",
       "8           40.0      10.0                0.0  \n",
       "9           50.0      20.0               30.0  "
      ]
     },
     "execution_count": 30,
     "metadata": {},
     "output_type": "execute_result"
    }
   ],
   "source": [
    "postsurvey"
   ]
  }
 ],
 "metadata": {
  "kernelspec": {
   "display_name": "Python 3 (ipykernel)",
   "language": "python",
   "name": "python3"
  },
  "language_info": {
   "codemirror_mode": {
    "name": "ipython",
    "version": 3
   },
   "file_extension": ".py",
   "mimetype": "text/x-python",
   "name": "python",
   "nbconvert_exporter": "python",
   "pygments_lexer": "ipython3",
   "version": "3.9.7"
  }
 },
 "nbformat": 4,
 "nbformat_minor": 5
}
