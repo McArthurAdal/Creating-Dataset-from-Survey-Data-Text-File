{
 "cells": [
  {
   "cell_type": "markdown",
   "id": "9e30be61",
   "metadata": {},
   "source": [
    "# Create Presurvey Data"
   ]
  },
  {
   "cell_type": "code",
   "execution_count": null,
   "id": "8df7fbd6",
   "metadata": {},
   "outputs": [],
   "source": [
    "import numpy as np\n",
    "import pandas as pd\n",
    "import re"
   ]
  },
  {
   "cell_type": "code",
   "execution_count": null,
   "id": "fc5f83bb",
   "metadata": {},
   "outputs": [],
   "source": [
    "def get_text(path):\n",
    "    with open(path) as file:\n",
    "        text = np.loadtxt(file, delimiter='\\n',dtype='str')\n",
    "\n",
    "    return pd.DataFrame(text)"
   ]
  },
  {
   "cell_type": "code",
   "execution_count": null,
   "id": "83383131",
   "metadata": {},
   "outputs": [],
   "source": [
    "def add_and_modify_columns(df):\n",
    "    columns_to_add = ['strongly agree','agree','neither agree','disagree','strongly disagree']\n",
    "    df[columns_to_add] = 0\n",
    "    mapper = {0:'question'}\n",
    "    df.rename(mapper,inplace=True,axis=1)\n",
    "    return df"
   ]
  },
  {
   "cell_type": "code",
   "execution_count": null,
   "id": "ec345091",
   "metadata": {},
   "outputs": [],
   "source": [
    "def extract_percentages(df):\n",
    "    full_list = []\n",
    "    for index in range(1,20):\n",
    "        if index%2 != 0:\n",
    "            row = df.iloc[index,0]\n",
    "            row = re.findall('[0-9] | [0-9][0-9]',str(row))\n",
    "            values = [float(x) for x in row]\n",
    "            full_list.append(values)\n",
    "\n",
    "    def reset_indices(df):\n",
    "        indexes = []\n",
    "        for index in range(1,20):\n",
    "            if index%2 != 0:\n",
    "                indexes.append(index)\n",
    "\n",
    "        df.drop(indexes,axis=0,inplace=True)\n",
    "        df.reset_index(drop=True,inplace=True)\n",
    "    reset_indices(df)\n",
    "    return df,full_list"
   ]
  },
  {
   "cell_type": "code",
   "execution_count": null,
   "id": "6ee96831",
   "metadata": {},
   "outputs": [],
   "source": [
    "def insert_values_into(df, p):\n",
    "    data_x = pd.DataFrame(p,columns=df.columns[1:])\n",
    "    return data_x"
   ]
  },
  {
   "cell_type": "code",
   "execution_count": null,
   "id": "9fd3524f",
   "metadata": {},
   "outputs": [],
   "source": [
    "def add_questions_and_reorder_columns(df):\n",
    "    df['question'] = data['question']\n",
    "    #mapper = {0:'question'}\n",
    "    #data_n.rename(mapper,inplace=True,axis=1)\n",
    "    cols = ['question','strongly agree','agree','neither agree','disagree','strongly disagree']\n",
    "    df= df[cols]\n",
    "    return df"
   ]
  },
  {
   "cell_type": "markdown",
   "id": "10dcc2da",
   "metadata": {},
   "source": [
    "# Create Datasets  Using a FunctionTransformer and Pipeline\n"
   ]
  },
  {
   "cell_type": "code",
   "execution_count": null,
   "id": "1080452e",
   "metadata": {},
   "outputs": [],
   "source": [
    "from sklearn.preprocessing import FunctionTransformer as FT\n",
    "from sklearn.pipeline import Pipeline"
   ]
  },
  {
   "cell_type": "code",
   "execution_count": null,
   "id": "912e3df9",
   "metadata": {},
   "outputs": [],
   "source": [
    "data = get_text('presurvey')"
   ]
  },
  {
   "cell_type": "code",
   "execution_count": null,
   "id": "42a2d839",
   "metadata": {},
   "outputs": [],
   "source": [
    "data_post = get_text('postsurvey')"
   ]
  },
  {
   "cell_type": "code",
   "execution_count": null,
   "id": "97a4826e",
   "metadata": {},
   "outputs": [],
   "source": [
    "add_and_modify_columns_t = FT(add_and_modify_columns)\n",
    "reset_indices_t = FT(reset_indices)\n",
    "insert_values_into_t = FT(insert_values_into,kw_args={'p':p})\n",
    "add_questions_and_reorder_columns_t = FT(add_questions_and_reorder_columns)\n",
    "np.asarray(extract_percentages(data))"
   ]
  },
  {
   "cell_type": "code",
   "execution_count": null,
   "id": "df1819ab",
   "metadata": {},
   "outputs": [],
   "source": [
    "pipe = Pipeline(\n",
    "steps=[\n",
    "    ('a&mc',add_and_modify_columns_t),\n",
    "    ('ep',extract_percentages_t),\n",
    "    ('ivi',insert_values_into_t),\n",
    "    ('aqrc',add_questions_and_reorder_columns_t)\n",
    "], verbose=True)\n",
    "pipe.fit_transform(data)"
   ]
  }
 ],
 "metadata": {
  "kernelspec": {
   "display_name": "Python 3 (ipykernel)",
   "language": "python",
   "name": "python3"
  },
  "language_info": {
   "codemirror_mode": {
    "name": "ipython",
    "version": 3
   },
   "file_extension": ".py",
   "mimetype": "text/x-python",
   "name": "python",
   "nbconvert_exporter": "python",
   "pygments_lexer": "ipython3",
   "version": "3.9.7"
  }
 },
 "nbformat": 4,
 "nbformat_minor": 5
}
