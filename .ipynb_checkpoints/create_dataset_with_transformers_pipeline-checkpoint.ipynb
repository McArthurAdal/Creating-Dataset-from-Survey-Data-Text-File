{
 "cells": [
  {
   "cell_type": "markdown",
   "id": "9e30be61",
   "metadata": {},
   "source": [
    "# Define Custom Functions"
   ]
  },
  {
   "cell_type": "code",
   "execution_count": 150,
   "id": "8df7fbd6",
   "metadata": {},
   "outputs": [],
   "source": [
    "import numpy as np\n",
    "import pandas as pd\n",
    "import re"
   ]
  },
  {
   "cell_type": "code",
   "execution_count": 151,
   "id": "fc5f83bb",
   "metadata": {},
   "outputs": [],
   "source": [
    "def get_text(path):\n",
    "    with open(path) as file:\n",
    "        text = np.loadtxt(file, delimiter='\\n',dtype='str')\n",
    "\n",
    "    return pd.DataFrame(text)"
   ]
  },
  {
   "cell_type": "code",
   "execution_count": 152,
   "id": "83383131",
   "metadata": {},
   "outputs": [],
   "source": [
    "def add_and_modify_columns(df):\n",
    "    columns_to_add = ['strongly agree','agree','neither agree','disagree','strongly disagree']\n",
    "    df[columns_to_add] = 0\n",
    "    mapper = {0:'question'}\n",
    "    df.rename(mapper,inplace=True,axis=1)\n",
    "    return df"
   ]
  },
  {
   "cell_type": "code",
   "execution_count": 153,
   "id": "e0739f04",
   "metadata": {},
   "outputs": [],
   "source": [
    "def extract_percentages(df):\n",
    "    full_list = []\n",
    "    for index in range(1,20):\n",
    "        if index%2 != 0:\n",
    "            row = df.iloc[index,0]\n",
    "            row = re.findall('[0-9] | [0-9][0-9]',str(row))\n",
    "            values = [float(x) for x in row]\n",
    "            full_list.append(values)\n",
    "    return full_list    "
   ]
  },
  {
   "cell_type": "code",
   "execution_count": 154,
   "id": "57c2b3bc",
   "metadata": {},
   "outputs": [],
   "source": [
    "def reset_indices(df):\n",
    "    indexes = []\n",
    "    for index in range(1,20):\n",
    "        if index%2 != 0:\n",
    "            indexes.append(index)\n",
    "\n",
    "    df.drop(indexes,axis=0,inplace=True)\n",
    "    df.reset_index(drop=True,inplace=True)\n",
    "#return df"
   ]
  },
  {
   "cell_type": "code",
   "execution_count": 155,
   "id": "6ee96831",
   "metadata": {},
   "outputs": [],
   "source": [
    "def insert_values_into(df):\n",
    "    p = extract_percentages(df)\n",
    "    reset_indices(df)\n",
    "    data_x = pd.DataFrame(p,columns=df.columns[1:])\n",
    "    return data_x"
   ]
  },
  {
   "cell_type": "code",
   "execution_count": 156,
   "id": "9fd3524f",
   "metadata": {},
   "outputs": [],
   "source": [
    "def add_questions_and_reorder_columns(df):\n",
    "    df['question'] = data['question']\n",
    "    #mapper = {0:'question'}\n",
    "    #data_n.rename(mapper,inplace=True,axis=1)\n",
    "    cols = ['question','strongly agree','agree','neither agree','disagree','strongly disagree']\n",
    "    df= df[cols]\n",
    "    return df"
   ]
  },
  {
   "cell_type": "markdown",
   "id": "10dcc2da",
   "metadata": {},
   "source": [
    "# Create Datasets  Using a FunctionTransformer and Pipeline\n"
   ]
  },
  {
   "cell_type": "code",
   "execution_count": 157,
   "id": "1080452e",
   "metadata": {},
   "outputs": [],
   "source": [
    "from sklearn.preprocessing import FunctionTransformer as FT\n",
    "from sklearn.pipeline import Pipeline"
   ]
  },
  {
   "cell_type": "code",
   "execution_count": 158,
   "id": "912e3df9",
   "metadata": {},
   "outputs": [],
   "source": [
    "data = get_text('presurvey')"
   ]
  },
  {
   "cell_type": "code",
   "execution_count": 159,
   "id": "42a2d839",
   "metadata": {},
   "outputs": [],
   "source": [
    "data_post = get_text('postsurvey')"
   ]
  },
  {
   "cell_type": "code",
   "execution_count": 160,
   "id": "97a4826e",
   "metadata": {},
   "outputs": [],
   "source": [
    "add_and_modify_columns_t = FT(add_and_modify_columns)\n",
    "insert_values_into_t = FT(insert_values_into)\n",
    "add_questions_and_reorder_columns_t = FT(add_questions_and_reorder_columns)"
   ]
  },
  {
   "cell_type": "code",
   "execution_count": 161,
   "id": "2ba99e09",
   "metadata": {},
   "outputs": [],
   "source": [
    "pipe = Pipeline(\n",
    "steps=[\n",
    "    ('a&mc',add_and_modify_columns_t),\n",
    "    ('ivi',insert_values_into_t),\n",
    "    ('aqrc',add_questions_and_reorder_columns_t)\n",
    "], verbose=True)"
   ]
  },
  {
   "cell_type": "code",
   "execution_count": 162,
   "id": "df1819ab",
   "metadata": {},
   "outputs": [
    {
     "name": "stdout",
     "output_type": "stream",
     "text": [
      "[Pipeline] .............. (step 1 of 3) Processing a&mc, total=   0.0s\n",
      "[Pipeline] ............... (step 2 of 3) Processing ivi, total=   0.0s\n",
      "[Pipeline] .............. (step 3 of 3) Processing aqrc, total=   0.0s\n"
     ]
    }
   ],
   "source": [
    "presurvey = pipe.fit_transform(data)\n",
    "#presurvey.to_csv('presurvey_tr_pipe')"
   ]
  },
  {
   "cell_type": "code",
   "execution_count": 163,
   "id": "8eeffccb",
   "metadata": {},
   "outputs": [
    {
     "name": "stdout",
     "output_type": "stream",
     "text": [
      "[Pipeline] .............. (step 1 of 3) Processing a&mc, total=   0.0s\n",
      "[Pipeline] ............... (step 2 of 3) Processing ivi, total=   0.0s\n",
      "[Pipeline] .............. (step 3 of 3) Processing aqrc, total=   0.0s\n"
     ]
    }
   ],
   "source": [
    "postsurvey = pipe.fit_transform(data_post)\n",
    "#postsurvey.to_csv('postsurvey_tr_pipe')"
   ]
  }
 ],
 "metadata": {
  "kernelspec": {
   "display_name": "Python 3 (ipykernel)",
   "language": "python",
   "name": "python3"
  },
  "language_info": {
   "codemirror_mode": {
    "name": "ipython",
    "version": 3
   },
   "file_extension": ".py",
   "mimetype": "text/x-python",
   "name": "python",
   "nbconvert_exporter": "python",
   "pygments_lexer": "ipython3",
   "version": "3.9.7"
  }
 },
 "nbformat": 4,
 "nbformat_minor": 5
}
